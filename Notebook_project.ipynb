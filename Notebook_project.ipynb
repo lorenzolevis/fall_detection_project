{
 "cells": [
  {
   "cell_type": "code",
   "execution_count": 22,
   "metadata": {},
   "outputs": [
    {
     "name": "stdout",
     "output_type": "stream",
     "text": [
      "Non ci sono dati nulli\n"
     ]
    }
   ],
   "source": [
    "import pandas as pd\n",
    "import numpy as np\n",
    "from matplotlib import pyplot as plt\n",
    "import seaborn as sns\n",
    "\n",
    "df = pd.read_csv('falldetection.csv')\n",
    "\n",
    "df.describe()\n",
    "len_df = len(df)\n",
    "df.dropna(inplace=True)\n",
    "len_after_df = len(df)\n",
    "\n",
    "if len_df == len_after_df:\n",
    "    print(\"Non sono stasti trovati dati nulli\")\n",
    "else:\n",
    "    print(\"Sono stati trovati \" + str(len_df - len_after_df) + \" nulli\")\n"
   ]
  },
  {
   "cell_type": "code",
   "execution_count": 2,
   "metadata": {},
   "outputs": [
    {
     "name": "stdout",
     "output_type": "stream",
     "text": [
      "[[41.44700944]\n",
      " [36.85624344]\n",
      " [39.24344176]\n",
      " ...\n",
      " [55.58656873]\n",
      " [55.58656873]\n",
      " [62.93179433]]\n"
     ]
    },
    {
     "data": {
      "text/html": [
       "<div>\n",
       "<style scoped>\n",
       "    .dataframe tbody tr th:only-of-type {\n",
       "        vertical-align: middle;\n",
       "    }\n",
       "\n",
       "    .dataframe tbody tr th {\n",
       "        vertical-align: top;\n",
       "    }\n",
       "\n",
       "    .dataframe thead th {\n",
       "        text-align: right;\n",
       "    }\n",
       "</style>\n",
       "<table border=\"1\" class=\"dataframe\">\n",
       "  <thead>\n",
       "    <tr style=\"text-align: right;\">\n",
       "      <th></th>\n",
       "      <th>ACTIVITY</th>\n",
       "      <th>TIME</th>\n",
       "      <th>SL</th>\n",
       "      <th>EEG</th>\n",
       "      <th>BP</th>\n",
       "      <th>HR</th>\n",
       "      <th>CIRCLUATION</th>\n",
       "    </tr>\n",
       "  </thead>\n",
       "  <tbody>\n",
       "    <tr>\n",
       "      <th>count</th>\n",
       "      <td>16382.000000</td>\n",
       "      <td>16382.000000</td>\n",
       "      <td>1.638200e+04</td>\n",
       "      <td>1.638200e+04</td>\n",
       "      <td>16382.000000</td>\n",
       "      <td>16382.000000</td>\n",
       "      <td>16382.000000</td>\n",
       "    </tr>\n",
       "    <tr>\n",
       "      <th>mean</th>\n",
       "      <td>2.361494</td>\n",
       "      <td>10936.842478</td>\n",
       "      <td>7.527198e+04</td>\n",
       "      <td>-5.621125e+03</td>\n",
       "      <td>58.251068</td>\n",
       "      <td>65.784862</td>\n",
       "      <td>2894.341472</td>\n",
       "    </tr>\n",
       "    <tr>\n",
       "      <th>std</th>\n",
       "      <td>1.739195</td>\n",
       "      <td>5261.463601</td>\n",
       "      <td>1.275022e+05</td>\n",
       "      <td>1.082209e+05</td>\n",
       "      <td>48.292926</td>\n",
       "      <td>23.862714</td>\n",
       "      <td>3825.927830</td>\n",
       "    </tr>\n",
       "    <tr>\n",
       "      <th>min</th>\n",
       "      <td>0.000000</td>\n",
       "      <td>1954.230000</td>\n",
       "      <td>4.222420e+01</td>\n",
       "      <td>-1.262600e+07</td>\n",
       "      <td>0.000000</td>\n",
       "      <td>33.000000</td>\n",
       "      <td>5.000000</td>\n",
       "    </tr>\n",
       "    <tr>\n",
       "      <th>25%</th>\n",
       "      <td>0.000000</td>\n",
       "      <td>7263.685000</td>\n",
       "      <td>9.941170e+03</td>\n",
       "      <td>-5.630000e+03</td>\n",
       "      <td>25.000000</td>\n",
       "      <td>48.792235</td>\n",
       "      <td>587.000000</td>\n",
       "    </tr>\n",
       "    <tr>\n",
       "      <th>50%</th>\n",
       "      <td>3.000000</td>\n",
       "      <td>9769.355000</td>\n",
       "      <td>3.118920e+04</td>\n",
       "      <td>-3.361275e+03</td>\n",
       "      <td>44.000000</td>\n",
       "      <td>59.993704</td>\n",
       "      <td>1581.000000</td>\n",
       "    </tr>\n",
       "    <tr>\n",
       "      <th>75%</th>\n",
       "      <td>4.000000</td>\n",
       "      <td>13481.650000</td>\n",
       "      <td>8.076145e+04</td>\n",
       "      <td>-2.150000e+03</td>\n",
       "      <td>78.000000</td>\n",
       "      <td>76.704092</td>\n",
       "      <td>3539.000000</td>\n",
       "    </tr>\n",
       "    <tr>\n",
       "      <th>max</th>\n",
       "      <td>5.000000</td>\n",
       "      <td>50895.500000</td>\n",
       "      <td>2.426140e+06</td>\n",
       "      <td>1.410000e+06</td>\n",
       "      <td>533.000000</td>\n",
       "      <td>208.000000</td>\n",
       "      <td>52210.000000</td>\n",
       "    </tr>\n",
       "  </tbody>\n",
       "</table>\n",
       "</div>"
      ],
      "text/plain": [
       "           ACTIVITY          TIME            SL           EEG            BP  \\\n",
       "count  16382.000000  16382.000000  1.638200e+04  1.638200e+04  16382.000000   \n",
       "mean       2.361494  10936.842478  7.527198e+04 -5.621125e+03     58.251068   \n",
       "std        1.739195   5261.463601  1.275022e+05  1.082209e+05     48.292926   \n",
       "min        0.000000   1954.230000  4.222420e+01 -1.262600e+07      0.000000   \n",
       "25%        0.000000   7263.685000  9.941170e+03 -5.630000e+03     25.000000   \n",
       "50%        3.000000   9769.355000  3.118920e+04 -3.361275e+03     44.000000   \n",
       "75%        4.000000  13481.650000  8.076145e+04 -2.150000e+03     78.000000   \n",
       "max        5.000000  50895.500000  2.426140e+06  1.410000e+06    533.000000   \n",
       "\n",
       "                 HR   CIRCLUATION  \n",
       "count  16382.000000  16382.000000  \n",
       "mean      65.784862   2894.341472  \n",
       "std       23.862714   3825.927830  \n",
       "min       33.000000      5.000000  \n",
       "25%       48.792235    587.000000  \n",
       "50%       59.993704   1581.000000  \n",
       "75%       76.704092   3539.000000  \n",
       "max      208.000000  52210.000000  "
      ]
     },
     "execution_count": 2,
     "metadata": {},
     "output_type": "execute_result"
    }
   ],
   "source": [
    "#scalare i dati su dati reali. massimo HR registrato 208: applico funzione MinMixScaler con un range da 33 a 208\n",
    "\n",
    "from sklearn.preprocessing import MinMaxScaler\n",
    "\n",
    "hr_data = df['HR'].astype(float).to_numpy().reshape(-1, 1)\n",
    "min_max_scaler = MinMaxScaler(copy=True, feature_range=(33, 208))\n",
    "hr_data_minmax = min_max_scaler.fit_transform(hr_data)\n",
    "print(hr_data_minmax)\n",
    "\n",
    "df['HR'] = hr_data_minmax\n",
    "\n",
    "df.describe()"
   ]
  },
  {
   "cell_type": "code",
   "execution_count": 3,
   "metadata": {},
   "outputs": [
    {
     "data": {
      "text/html": [
       "<div>\n",
       "<style scoped>\n",
       "    .dataframe tbody tr th:only-of-type {\n",
       "        vertical-align: middle;\n",
       "    }\n",
       "\n",
       "    .dataframe tbody tr th {\n",
       "        vertical-align: top;\n",
       "    }\n",
       "\n",
       "    .dataframe thead th {\n",
       "        text-align: right;\n",
       "    }\n",
       "</style>\n",
       "<table border=\"1\" class=\"dataframe\">\n",
       "  <thead>\n",
       "    <tr style=\"text-align: right;\">\n",
       "      <th></th>\n",
       "      <th>ACTIVITY</th>\n",
       "      <th>TIME</th>\n",
       "      <th>SL</th>\n",
       "      <th>EEG</th>\n",
       "      <th>BP</th>\n",
       "      <th>HR</th>\n",
       "      <th>CIRCLUATION</th>\n",
       "    </tr>\n",
       "  </thead>\n",
       "  <tbody>\n",
       "    <tr>\n",
       "      <th>0</th>\n",
       "      <td>Falling</td>\n",
       "      <td>4722.92</td>\n",
       "      <td>4019.64</td>\n",
       "      <td>-1600.00</td>\n",
       "      <td>13</td>\n",
       "      <td>41.447009</td>\n",
       "      <td>317</td>\n",
       "    </tr>\n",
       "    <tr>\n",
       "      <th>1</th>\n",
       "      <td>Sitting</td>\n",
       "      <td>4059.12</td>\n",
       "      <td>2191.03</td>\n",
       "      <td>-1146.08</td>\n",
       "      <td>20</td>\n",
       "      <td>36.856243</td>\n",
       "      <td>165</td>\n",
       "    </tr>\n",
       "    <tr>\n",
       "      <th>2</th>\n",
       "      <td>Sitting</td>\n",
       "      <td>4773.56</td>\n",
       "      <td>2787.99</td>\n",
       "      <td>-1263.38</td>\n",
       "      <td>46</td>\n",
       "      <td>39.243442</td>\n",
       "      <td>224</td>\n",
       "    </tr>\n",
       "    <tr>\n",
       "      <th>3</th>\n",
       "      <td>Cramps</td>\n",
       "      <td>8271.27</td>\n",
       "      <td>9545.98</td>\n",
       "      <td>-2848.93</td>\n",
       "      <td>26</td>\n",
       "      <td>52.281217</td>\n",
       "      <td>554</td>\n",
       "    </tr>\n",
       "    <tr>\n",
       "      <th>4</th>\n",
       "      <td>Cramps</td>\n",
       "      <td>7102.16</td>\n",
       "      <td>14148.80</td>\n",
       "      <td>-2381.15</td>\n",
       "      <td>85</td>\n",
       "      <td>48.975866</td>\n",
       "      <td>809</td>\n",
       "    </tr>\n",
       "  </tbody>\n",
       "</table>\n",
       "</div>"
      ],
      "text/plain": [
       "  ACTIVITY     TIME        SL      EEG  BP         HR  CIRCLUATION\n",
       "0  Falling  4722.92   4019.64 -1600.00  13  41.447009          317\n",
       "1  Sitting  4059.12   2191.03 -1146.08  20  36.856243          165\n",
       "2  Sitting  4773.56   2787.99 -1263.38  46  39.243442          224\n",
       "3   Cramps  8271.27   9545.98 -2848.93  26  52.281217          554\n",
       "4   Cramps  7102.16  14148.80 -2381.15  85  48.975866          809"
      ]
     },
     "execution_count": 3,
     "metadata": {},
     "output_type": "execute_result"
    }
   ],
   "source": [
    "fd = df.replace({'ACTIVITY':{0:'Standing', 1:'Walking', 2:'Sitting', 3:'Falling', 4:'Cramps', 5:'Running'}})\n",
    "fd.head()"
   ]
  },
  {
   "cell_type": "code",
   "execution_count": 4,
   "metadata": {},
   "outputs": [
    {
     "data": {
      "text/plain": [
       "<matplotlib.axes._subplots.AxesSubplot at 0x1183ae6d8>"
      ]
     },
     "execution_count": 4,
     "metadata": {},
     "output_type": "execute_result"
    },
    {
     "data": {
      "image/png": "[encoded data removed]",
      "text/plain": [
       "<Figure size 432x288 with 1 Axes>"
      ]
     },
     "metadata": {
      "needs_background": "light"
     },
     "output_type": "display_data"
    }
   ],
   "source": [
    "df['ACTIVITY'].hist()"
   ]
  },
  {
   "cell_type": "code",
   "execution_count": 5,
   "metadata": {},
   "outputs": [
    {
     "data": {
      "image/png": "[encoded data removed]",
      "text/plain": [
       "<Figure size 720x1440 with 6 Axes>"
      ]
     },
     "metadata": {
      "needs_background": "light"
     },
     "output_type": "display_data"
    }
   ],
   "source": [
    "cols=['TIME','SL','EEG','BP','HR','CIRCLUATION']\n",
    "#Distribution\n",
    "fig = plt.figure(figsize=(10, 20)) # (Breite,Länge)\n",
    "for i in range (0,len(cols)):\n",
    "    fig.add_subplot(len(cols),1,i+1)\n",
    "    sns.distplot(df[cols[i]]);"
   ]
  },
  {
   "cell_type": "code",
   "execution_count": 6,
   "metadata": {},
   "outputs": [
    {
     "data": {
      "text/html": [
       "<div>\n",
       "<style scoped>\n",
       "    .dataframe tbody tr th:only-of-type {\n",
       "        vertical-align: middle;\n",
       "    }\n",
       "\n",
       "    .dataframe tbody tr th {\n",
       "        vertical-align: top;\n",
       "    }\n",
       "\n",
       "    .dataframe thead th {\n",
       "        text-align: right;\n",
       "    }\n",
       "</style>\n",
       "<table border=\"1\" class=\"dataframe\">\n",
       "  <thead>\n",
       "    <tr style=\"text-align: right;\">\n",
       "      <th></th>\n",
       "      <th>TIME</th>\n",
       "      <th>SL</th>\n",
       "      <th>EEG</th>\n",
       "      <th>BP</th>\n",
       "      <th>HR</th>\n",
       "      <th>CIRCLUATION</th>\n",
       "    </tr>\n",
       "  </thead>\n",
       "  <tbody>\n",
       "    <tr>\n",
       "      <th>0</th>\n",
       "      <td>4722.92</td>\n",
       "      <td>4019.64</td>\n",
       "      <td>-1600.00</td>\n",
       "      <td>13</td>\n",
       "      <td>41.447009</td>\n",
       "      <td>317</td>\n",
       "    </tr>\n",
       "    <tr>\n",
       "      <th>1</th>\n",
       "      <td>4059.12</td>\n",
       "      <td>2191.03</td>\n",
       "      <td>-1146.08</td>\n",
       "      <td>20</td>\n",
       "      <td>36.856243</td>\n",
       "      <td>165</td>\n",
       "    </tr>\n",
       "    <tr>\n",
       "      <th>2</th>\n",
       "      <td>4773.56</td>\n",
       "      <td>2787.99</td>\n",
       "      <td>-1263.38</td>\n",
       "      <td>46</td>\n",
       "      <td>39.243442</td>\n",
       "      <td>224</td>\n",
       "    </tr>\n",
       "    <tr>\n",
       "      <th>3</th>\n",
       "      <td>8271.27</td>\n",
       "      <td>9545.98</td>\n",
       "      <td>-2848.93</td>\n",
       "      <td>26</td>\n",
       "      <td>52.281217</td>\n",
       "      <td>554</td>\n",
       "    </tr>\n",
       "    <tr>\n",
       "      <th>4</th>\n",
       "      <td>7102.16</td>\n",
       "      <td>14148.80</td>\n",
       "      <td>-2381.15</td>\n",
       "      <td>85</td>\n",
       "      <td>48.975866</td>\n",
       "      <td>809</td>\n",
       "    </tr>\n",
       "  </tbody>\n",
       "</table>\n",
       "</div>"
      ],
      "text/plain": [
       "      TIME        SL      EEG  BP         HR  CIRCLUATION\n",
       "0  4722.92   4019.64 -1600.00  13  41.447009          317\n",
       "1  4059.12   2191.03 -1146.08  20  36.856243          165\n",
       "2  4773.56   2787.99 -1263.38  46  39.243442          224\n",
       "3  8271.27   9545.98 -2848.93  26  52.281217          554\n",
       "4  7102.16  14148.80 -2381.15  85  48.975866          809"
      ]
     },
     "execution_count": 6,
     "metadata": {},
     "output_type": "execute_result"
    }
   ],
   "source": [
    "target = df['ACTIVITY']\n",
    "data = df.drop(['ACTIVITY'], axis=1)\n",
    "data.head()"
   ]
  },
  {
   "cell_type": "code",
   "execution_count": 7,
   "metadata": {},
   "outputs": [
    {
     "name": "stderr",
     "output_type": "stream",
     "text": [
      "/Library/Frameworks/Python.framework/Versions/3.7/lib/python3.7/site-packages/sklearn/preprocessing/data.py:645: DataConversionWarning: Data with input dtype int64, float64 were all converted to float64 by StandardScaler.\n",
      "  return self.partial_fit(X, y)\n",
      "/Library/Frameworks/Python.framework/Versions/3.7/lib/python3.7/site-packages/ipykernel_launcher.py:10: DataConversionWarning: Data with input dtype int64, float64 were all converted to float64 by StandardScaler.\n",
      "  # Remove the CWD from sys.path while we load stuff.\n",
      "/Library/Frameworks/Python.framework/Versions/3.7/lib/python3.7/site-packages/ipykernel_launcher.py:11: DataConversionWarning: Data with input dtype int64, float64 were all converted to float64 by StandardScaler.\n",
      "  # This is added back by InteractiveShellApp.init_path()\n"
     ]
    }
   ],
   "source": [
    "from sklearn.model_selection import train_test_split\n",
    "from sklearn.metrics import accuracy_score\n",
    "from sklearn.preprocessing import StandardScaler\n",
    "from sklearn import svm\n",
    "\n",
    "x_train, x_test, y_train, y_test = train_test_split(data, target, test_size=0.05)\n",
    "\n",
    "scaler = StandardScaler().fit(x_train)\n",
    "\n",
    "x_train = scaler.transform(x_train)\n",
    "x_test = scaler.transform(x_test)"
   ]
  },
  {
   "cell_type": "code",
   "execution_count": 8,
   "metadata": {},
   "outputs": [
    {
     "name": "stdout",
     "output_type": "stream",
     "text": [
      "SVM accuracy score:  0.3902439024390244\n"
     ]
    }
   ],
   "source": [
    "model = svm.SVC(kernel='rbf', gamma='scale', probability=True)\n",
    "model.fit(x_train, y_train)\n",
    "model_predictions = model.predict(x_test)\n",
    "\n",
    "print(\"SVM accuracy score: \", accuracy_score(y_test, model_predictions))"
   ]
  },
  {
   "cell_type": "code",
   "execution_count": 9,
   "metadata": {},
   "outputs": [
    {
     "name": "stdout",
     "output_type": "stream",
     "text": [
      "decision tree perecision:  0.6878048780487804\n"
     ]
    }
   ],
   "source": [
    "from sklearn.tree import DecisionTreeClassifier\n",
    "\n",
    "decision_tree = DecisionTreeClassifier()\n",
    "decision_tree.fit(x_train, y_train)\n",
    "decision_tree_predictions = decision_tree.predict(x_test)\n",
    "\n",
    "print(\"decision tree perecision: \", accuracy_score(y_test, decision_tree_predictions))"
   ]
  },
  {
   "cell_type": "code",
   "execution_count": 10,
   "metadata": {},
   "outputs": [
    {
     "name": "stdout",
     "output_type": "stream",
     "text": [
      "K neighbors perecision:  0.6268292682926829\n"
     ]
    }
   ],
   "source": [
    "from sklearn.neighbors import KNeighborsClassifier\n",
    "\n",
    "knn = KNeighborsClassifier()\n",
    "knn.fit(x_train, y_train)\n",
    "knn_predictions = knn.predict(x_test)\n",
    "\n",
    "print(\"K neighbors perecision: \", accuracy_score(y_test, knn_predictions))\n"
   ]
  },
  {
   "cell_type": "code",
   "execution_count": 11,
   "metadata": {},
   "outputs": [
    {
     "name": "stdout",
     "output_type": "stream",
     "text": [
      "native bayes perecision:  0.11829268292682926\n"
     ]
    }
   ],
   "source": [
    "from sklearn.naive_bayes import GaussianNB\n",
    "\n",
    "native_bayes = GaussianNB()\n",
    "native_bayes.fit(x_train, y_train)\n",
    "native_bayes_predictions = native_bayes.predict(x_test)\n",
    "\n",
    "print(\"native bayes perecision: \", accuracy_score(y_test, native_bayes_predictions))"
   ]
  },
  {
   "cell_type": "code",
   "execution_count": 12,
   "metadata": {},
   "outputs": [
    {
     "name": "stdout",
     "output_type": "stream",
     "text": [
      "RandomForest precision:  0.7682926829268293\n"
     ]
    }
   ],
   "source": [
    "from sklearn.ensemble import RandomForestClassifier\n",
    "\n",
    "randomForest = RandomForestClassifier(n_estimators=500, max_depth=20, random_state=2)\n",
    "randomForest.fit(x_train, y_train)\n",
    "randomForest_prediction = randomForest.predict(x_test)\n",
    "\n",
    "print(\"RandomForest precision: \", accuracy_score(y_test, randomForest_prediction))\n"
   ]
  },
  {
   "cell_type": "code",
   "execution_count": 14,
   "metadata": {},
   "outputs": [
    {
     "name": "stdout",
     "output_type": "stream",
     "text": [
      "Feature ranking:\n",
      "1. feature 1 (0.210545)\n",
      "2. feature 2 (0.188268)\n",
      "3. feature 4 (0.157362)\n",
      "4. feature 5 (0.153852)\n",
      "5. feature 3 (0.145390)\n",
      "6. feature 0 (0.144583)\n"
     ]
    },
    {
     "data": {
      "image/png": "[encoded data removed]",
      "text/plain": [
       "<Figure size 432x288 with 1 Axes>"
      ]
     },
     "metadata": {
      "needs_background": "light"
     },
     "output_type": "display_data"
    }
   ],
   "source": [
    "importances = randomForest.feature_importances_\n",
    "std = np.std([tree.feature_importances_ for tree in randomForest.estimators_],\n",
    "             axis=0)\n",
    "indices = np.argsort(importances)[::-1]\n",
    "\n",
    "# Print the feature ranking\n",
    "print(\"Feature ranking:\")\n",
    "\n",
    "for f in range(x_train.shape[1]):\n",
    "    print(\"%d. feature %d (%f)\" % (f + 1, indices[f], importances[indices[f]]))\n",
    "\n",
    "# Plot the feature importances of the forest\n",
    "plt.figure()\n",
    "plt.title(\"Feature importances\")\n",
    "plt.bar(range(x_train.shape[1]), importances[indices],color=\"b\", yerr=std[indices], align=\"center\")\n",
    "plt.xticks(range(x_train.shape[1]), indices)\n",
    "plt.xlim([-1, x_train.shape[1]])\n",
    "plt.show()"
   ]
  },
  {
   "cell_type": "code",
   "execution_count": null,
   "metadata": {},
   "outputs": [],
   "source": []
  }
 ],
 "metadata": {
  "kernelspec": {
   "display_name": "Python 3",
   "language": "python",
   "name": "python3"
  },
  "language_info": {
   "codemirror_mode": {
    "name": "ipython",
    "version": 3
   },
   "file_extension": ".py",
   "mimetype": "text/x-python",
   "name": "python",
   "nbconvert_exporter": "python",
   "pygments_lexer": "ipython3",
   "version": "3.7.0"
  }
 },
 "nbformat": 4,
 "nbformat_minor": 2
}
